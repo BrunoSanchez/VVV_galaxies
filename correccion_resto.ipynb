{
 "cells": [
  {
   "cell_type": "markdown",
   "metadata": {},
   "source": [
    "# Galaxias en VVV\n",
    "\n",
    "## Clasificacion con Machine Learning usando estrellas"
   ]
  },
  {
   "cell_type": "markdown",
   "metadata": {},
   "source": [
    "Usamos un catálogo de galaxias identificadas en VVV en los tiles **d010** y **d0115** de Baravalle L.\n",
    "\n",
    "Para saber donde estan ubicados los tiles usamos el mapa de VVV\n",
    "\n",
    "<img src='./imgs/survey-area-tile-nbrs-copy2.jpg'>"
   ]
  },
  {
   "cell_type": "markdown",
   "metadata": {},
   "source": [
    "En estos tiles encontraron 574 objetos con propiedades morfologicas, fotometricas y fotocromaticas propias de galaxias. 90 de los mismos han sido visualmente inspeccionados, y constituyen una muestra *bona fide* de galaxias en el VVV."
   ]
  },
  {
   "cell_type": "markdown",
   "metadata": {},
   "source": [
    "## Analisis de los datos\n",
    "\n",
    "Primero cargamos las librerias necesarias"
   ]
  },
  {
   "cell_type": "code",
   "execution_count": 1,
   "metadata": {
    "collapsed": true
   },
   "outputs": [],
   "source": [
    "import numpy as np\n",
    "import pandas as pd\n",
    "import matplotlib.pyplot as plt\n",
    "\n",
    "from IPython.display import display\n",
    "\n",
    "from astropy.io import ascii\n",
    "from astropy.table import Table, Column\n",
    "\n",
    "%matplotlib inline"
   ]
  },
  {
   "cell_type": "code",
   "execution_count": 2,
   "metadata": {
    "collapsed": true
   },
   "outputs": [],
   "source": [
    "from astroquery.irsa_dust import IrsaDust"
   ]
  },
  {
   "cell_type": "markdown",
   "metadata": {},
   "source": [
    "Leo el catalogo de los restos del tile 010:"
   ]
  },
  {
   "cell_type": "code",
   "execution_count": 3,
   "metadata": {
    "collapsed": false
   },
   "outputs": [
    {
     "name": "stdout",
     "output_type": "stream",
     "text": [
      "['ALPHA', 'DELTA', 'MAG_PSF_Ks', 'MAGERR_PSF_Ks', 'MAG_AUTO_Ks', 'MAGERR_AUTO_Ks', 'MAG_APER_Ks', 'MAGERR_APER_Ks', 'MAG_MODEL_Ks', 'MAGERR_MODEL_Ks', 'SPREAD_MODEL', 'AMODEL_IMAGE', 'BMODEL_IMAGE', 'ELONGATION', 'ELLIPTICITY', 'A_IMAGE', 'B_IMAGE', 'KRON_RADIUS', 'FLUX_RADIUS_02', 'FLUX_RADIUS_051', 'FLUX_RADIUS_08', 'SPHEROID_SERSICN', 'CLASS_STAR', 'MAG_PSF_H', 'MAGERR_PSF_H', 'MAG_AUTO_H', 'MAGERR_AUTO_H', 'MAG_APER_H', 'MAGERR_APER_H', 'MAG_PSF_J', 'MAGERR_PSF_J', 'MAG_AUTO_J', 'MAGERR_AUTO_J', 'MAG_APER_J', 'MAGERR_APER_J', 'C']\n"
     ]
    }
   ],
   "source": [
    "colnames = \"ALPHA  DELTA  MAG_PSF_Ks  MAGERR_PSF_Ks  MAG_AUTO_Ks MAGERR_AUTO_Ks MAG_APER_Ks MAGERR_APER_Ks MAG_MODEL_Ks MAGERR_MODEL_Ks SPREAD_MODEL AMODEL_IMAGE BMODEL_IMAGE ELONGATION ELLIPTICITY A_IMAGE B_IMAGE KRON_RADIUS FLUX_RADIUS_02 FLUX_RADIUS_051 FLUX_RADIUS_08 SPHEROID_SERSICN CLASS_STAR MAG_PSF_H MAGERR_PSF_H MAG_AUTO_H MAGERR_AUTO_H MAG_APER_H MAGERR_APER_H MAG_PSF_J MAGERR_PSF_J MAG_AUTO_J MAGERR_AUTO_J MAG_APER_J MAGERR_APER_J C\".split()\n",
    "print colnames"
   ]
  },
  {
   "cell_type": "code",
   "execution_count": 4,
   "metadata": {
    "collapsed": true
   },
   "outputs": [],
   "source": [
    "d010 = ascii.read('./restos/RESTO_d010.cat', names=colnames)"
   ]
  },
  {
   "cell_type": "code",
   "execution_count": 5,
   "metadata": {
    "collapsed": false,
    "scrolled": true
   },
   "outputs": [
    {
     "data": {
      "text/html": [
       "&lt;Table length=751862&gt;\n",
       "<table id=\"table140664659606544\" class=\"table-striped table-bordered table-condensed\">\n",
       "<thead><tr><th>ALPHA</th><th>DELTA</th><th>MAG_PSF_Ks</th><th>MAGERR_PSF_Ks</th><th>MAG_AUTO_Ks</th><th>MAGERR_AUTO_Ks</th><th>MAG_APER_Ks</th><th>MAGERR_APER_Ks</th><th>MAG_MODEL_Ks</th><th>MAGERR_MODEL_Ks</th><th>SPREAD_MODEL</th><th>AMODEL_IMAGE</th><th>BMODEL_IMAGE</th><th>ELONGATION</th><th>ELLIPTICITY</th><th>A_IMAGE</th><th>B_IMAGE</th><th>KRON_RADIUS</th><th>FLUX_RADIUS_02</th><th>FLUX_RADIUS_051</th><th>FLUX_RADIUS_08</th><th>SPHEROID_SERSICN</th><th>CLASS_STAR</th><th>MAG_PSF_H</th><th>MAGERR_PSF_H</th><th>MAG_AUTO_H</th><th>MAGERR_AUTO_H</th><th>MAG_APER_H</th><th>MAGERR_APER_H</th><th>MAG_PSF_J</th><th>MAGERR_PSF_J</th><th>MAG_AUTO_J</th><th>MAGERR_AUTO_J</th><th>MAG_APER_J</th><th>MAGERR_APER_J</th><th>C</th></tr></thead>\n",
       "<thead><tr><th>float64</th><th>float64</th><th>float64</th><th>float64</th><th>float64</th><th>float64</th><th>float64</th><th>float64</th><th>float64</th><th>float64</th><th>float64</th><th>float64</th><th>float64</th><th>float64</th><th>float64</th><th>float64</th><th>float64</th><th>float64</th><th>float64</th><th>float64</th><th>float64</th><th>float64</th><th>float64</th><th>float64</th><th>float64</th><th>float64</th><th>float64</th><th>float64</th><th>float64</th><th>float64</th><th>float64</th><th>float64</th><th>float64</th><th>float64</th><th>float64</th><th>float64</th></tr></thead>\n",
       "<tr><td>203.9948</td><td>-63.7845</td><td>17.0627</td><td>0.06</td><td>17.1152</td><td>0.07</td><td>17.2994</td><td>0.07</td><td>16.701</td><td>0.1</td><td>0.0021</td><td>9.35</td><td>0.148</td><td>2.04</td><td>0.509</td><td>1.54</td><td>0.757</td><td>3.5</td><td>0.903</td><td>0.53</td><td>2.57</td><td>9.894</td><td>0.84</td><td>17.82</td><td>0.0609</td><td>17.75</td><td>0.0811</td><td>17.88</td><td>0.0668</td><td>18.46</td><td>0.0841</td><td>18.71</td><td>0.0933</td><td>18.91</td><td>0.0895</td><td>2.273</td></tr>\n",
       "<tr><td>204.0021</td><td>-63.8033</td><td>17.5726</td><td>0.09</td><td>18.047</td><td>0.12</td><td>18.0957</td><td>0.13</td><td>17.4643</td><td>0.1</td><td>-0.0046</td><td>0.75</td><td>0.445</td><td>1.19</td><td>0.16</td><td>0.81</td><td>0.68</td><td>3.5</td><td>0.643</td><td>0.37</td><td>1.49</td><td>10.0</td><td>0.795</td><td>17.99</td><td>0.0705</td><td>18.06</td><td>0.0952</td><td>18.08</td><td>0.0822</td><td>19.1</td><td>0.1176</td><td>19.43</td><td>0.1633</td><td>19.42</td><td>0.1408</td><td>1.822</td></tr>\n",
       "<tr><td>204.0225</td><td>-63.8555</td><td>17.1464</td><td>0.11</td><td>17.3794</td><td>0.12</td><td>17.4788</td><td>0.08</td><td>16.839</td><td>0.74</td><td>0.0073</td><td>6.42</td><td>1.287</td><td>2.11</td><td>0.525</td><td>1.57</td><td>0.748</td><td>4.8</td><td>1.044</td><td>0.59</td><td>2.55</td><td>3.939</td><td>0.608</td><td>17.89</td><td>0.073</td><td>17.59</td><td>0.0957</td><td>18.02</td><td>0.0782</td><td>19.15</td><td>0.1131</td><td>18.76</td><td>0.1379</td><td>19.18</td><td>0.1147</td><td>1.939</td></tr>\n",
       "<tr><td>204.047</td><td>-63.9181</td><td>17.1915</td><td>0.07</td><td>17.5174</td><td>0.09</td><td>17.5174</td><td>0.08</td><td>16.9157</td><td>0.27</td><td>0.0022</td><td>1.45</td><td>0.329</td><td>1.59</td><td>0.373</td><td>1.21</td><td>0.762</td><td>3.5</td><td>0.757</td><td>0.43</td><td>1.91</td><td>5.055</td><td>0.893</td><td>16.01</td><td>0.0271</td><td>16.43</td><td>0.0303</td><td>16.59</td><td>0.0223</td><td>18.18</td><td>0.0969</td><td>18.38</td><td>0.0895</td><td>18.67</td><td>0.0741</td><td>2.011</td></tr>\n",
       "<tr><td>204.0511</td><td>-63.9287</td><td>17.8882</td><td>0.1</td><td>18.2675</td><td>0.14</td><td>18.3841</td><td>0.17</td><td>16.4123</td><td>0.41</td><td>-0.0083</td><td>506.35</td><td>5.461</td><td>1.22</td><td>0.184</td><td>0.82</td><td>0.67</td><td>3.5</td><td>0.611</td><td>0.36</td><td>1.4</td><td>9.995</td><td>0.627</td><td>18.19</td><td>0.0818</td><td>18.27</td><td>0.1188</td><td>18.31</td><td>0.1068</td><td>18.77</td><td>0.0869</td><td>19.03</td><td>0.1075</td><td>19.03</td><td>0.1013</td><td>1.797</td></tr>\n",
       "<tr><td>204.058</td><td>-63.9462</td><td>16.9369</td><td>0.06</td><td>17.3914</td><td>0.08</td><td>17.4016</td><td>0.07</td><td>16.7857</td><td>0.06</td><td>-0.0013</td><td>0.3</td><td>0.289</td><td>1.58</td><td>0.366</td><td>1.2</td><td>0.759</td><td>3.5</td><td>0.66</td><td>0.4</td><td>1.67</td><td>1.09</td><td>0.948</td><td>17.17</td><td>0.0379</td><td>17.35</td><td>0.0574</td><td>17.41</td><td>0.0449</td><td>18.48</td><td>0.09</td><td>18.84</td><td>0.1145</td><td>18.95</td><td>0.0933</td><td>2.011</td></tr>\n",
       "<tr><td>204.1018</td><td>-64.0565</td><td>18.0436</td><td>0.12</td><td>18.1416</td><td>0.14</td><td>18.1739</td><td>0.16</td><td>17.4578</td><td>0.67</td><td>-0.0037</td><td>11.6</td><td>0.444</td><td>1.26</td><td>0.21</td><td>0.84</td><td>0.665</td><td>3.5</td><td>0.739</td><td>0.44</td><td>1.97</td><td>5.585</td><td>0.605</td><td>18.17</td><td>0.0788</td><td>17.93</td><td>0.1047</td><td>18.17</td><td>0.0942</td><td>18.79</td><td>0.0779</td><td>18.56</td><td>0.1161</td><td>18.81</td><td>0.0876</td><td>2.127</td></tr>\n",
       "<tr><td>204.0016</td><td>-63.8018</td><td>16.6425</td><td>0.04</td><td>16.7536</td><td>0.06</td><td>16.8451</td><td>0.05</td><td>16.3198</td><td>0.23</td><td>0.0006</td><td>2.24</td><td>0.465</td><td>1.5</td><td>0.332</td><td>1.43</td><td>0.954</td><td>3.5</td><td>0.828</td><td>0.48</td><td>2.16</td><td>5.807</td><td>0.991</td><td>16.81</td><td>0.0262</td><td>16.69</td><td>0.0384</td><td>16.87</td><td>0.0289</td><td>17.86</td><td>0.0481</td><td>18.11</td><td>0.0599</td><td>18.21</td><td>0.0506</td><td>2.082</td></tr>\n",
       "<tr><td>204.069</td><td>-63.9741</td><td>16.4114</td><td>0.04</td><td>16.8186</td><td>0.05</td><td>16.8528</td><td>0.05</td><td>16.2626</td><td>0.04</td><td>-0.001</td><td>0.31</td><td>0.294</td><td>1.55</td><td>0.355</td><td>1.33</td><td>0.859</td><td>3.5</td><td>0.708</td><td>0.4</td><td>1.78</td><td>0.491</td><td>0.998</td><td>16.15</td><td>0.019</td><td>16.44</td><td>0.0268</td><td>16.46</td><td>0.0202</td><td>17.54</td><td>0.0397</td><td>17.68</td><td>0.0504</td><td>17.88</td><td>0.0394</td><td>2.001</td></tr>\n",
       "<tr><td>204.0914</td><td>-64.0307</td><td>17.5289</td><td>0.07</td><td>17.4742</td><td>0.1</td><td>17.5019</td><td>0.08</td><td>16.9396</td><td>0.56</td><td>0.0033</td><td>25.59</td><td>0.277</td><td>1.12</td><td>0.105</td><td>1.1</td><td>0.987</td><td>3.5</td><td>0.866</td><td>0.5</td><td>2.14</td><td>9.293</td><td>0.081</td><td>18.33</td><td>0.0924</td><td>18.42</td><td>0.1291</td><td>18.45</td><td>0.1228</td><td>18.76</td><td>0.0777</td><td>18.78</td><td>0.0956</td><td>18.8</td><td>0.0868</td><td>1.967</td></tr>\n",
       "<tr><td>...</td><td>...</td><td>...</td><td>...</td><td>...</td><td>...</td><td>...</td><td>...</td><td>...</td><td>...</td><td>...</td><td>...</td><td>...</td><td>...</td><td>...</td><td>...</td><td>...</td><td>...</td><td>...</td><td>...</td><td>...</td><td>...</td><td>...</td><td>...</td><td>...</td><td>...</td><td>...</td><td>...</td><td>...</td><td>...</td><td>...</td><td>...</td><td>...</td><td>...</td><td>...</td><td>...</td></tr>\n",
       "<tr><td>207.2554</td><td>-63.4823</td><td>15.479</td><td>0.01</td><td>15.3487</td><td>0.03</td><td>15.5059</td><td>0.02</td><td>15.3186</td><td>0.01</td><td>-0.0003</td><td>0.29</td><td>0.289</td><td>1.34</td><td>0.252</td><td>2.03</td><td>1.52</td><td>3.5</td><td>0.841</td><td>0.52</td><td>2.52</td><td>0.581</td><td>0.979</td><td>15.9</td><td>0.0126</td><td>15.71</td><td>0.0227</td><td>15.91</td><td>0.014</td><td>16.53</td><td>0.0145</td><td>16.36</td><td>0.0219</td><td>16.53</td><td>0.0155</td><td>2.385</td></tr>\n",
       "<tr><td>207.4342</td><td>-63.8282</td><td>16.9205</td><td>0.04</td><td>16.4146</td><td>0.06</td><td>16.8048</td><td>0.05</td><td>16.4146</td><td>0.09</td><td>0.0053</td><td>25.12</td><td>2.219</td><td>1.91</td><td>0.476</td><td>2.27</td><td>1.189</td><td>3.5</td><td>1.222</td><td>0.74</td><td>3.36</td><td>9.886</td><td>0.012</td><td>17.57</td><td>0.0473</td><td>16.98</td><td>0.0647</td><td>17.45</td><td>0.0501</td><td>18.13</td><td>0.0441</td><td>17.56</td><td>0.0582</td><td>17.95</td><td>0.0448</td><td>2.199</td></tr>\n",
       "<tr><td>207.7056</td><td>-64.3531</td><td>16.1479</td><td>0.02</td><td>14.7746</td><td>0.04</td><td>16.2099</td><td>0.03</td><td>14.5052</td><td>0.09</td><td>0.0029</td><td>108.31</td><td>30.746</td><td>2.61</td><td>0.617</td><td>6.44</td><td>2.467</td><td>4.41</td><td>2.313</td><td>2.33</td><td>10.54</td><td>6.272</td><td>0.018</td><td>16.45</td><td>0.0189</td><td>15.35</td><td>0.0332</td><td>16.57</td><td>0.0238</td><td>16.99</td><td>0.0194</td><td>15.91</td><td>0.0327</td><td>17.02</td><td>0.0218</td><td>3.294</td></tr>\n",
       "<tr><td>207.5286</td><td>-64.0018</td><td>13.9165</td><td>0.01</td><td>13.7713</td><td>0.01</td><td>13.9368</td><td>0.01</td><td>13.7512</td><td>0.01</td><td>-0.0006</td><td>0.63</td><td>0.317</td><td>1.09</td><td>0.083</td><td>1.85</td><td>1.698</td><td>3.5</td><td>0.846</td><td>0.51</td><td>2.55</td><td>9.948</td><td>0.987</td><td>14.24</td><td>0.0042</td><td>14.01</td><td>0.0058</td><td>14.26</td><td>0.0045</td><td>14.7</td><td>0.005</td><td>14.44</td><td>0.006</td><td>14.71</td><td>0.0052</td><td>2.392</td></tr>\n",
       "<tr><td>207.6506</td><td>-64.2333</td><td>17.106</td><td>0.05</td><td>16.9457</td><td>0.09</td><td>17.1155</td><td>0.06</td><td>16.6761</td><td>0.08</td><td>0.0007</td><td>18.91</td><td>1.245</td><td>1.42</td><td>0.295</td><td>1.67</td><td>1.175</td><td>3.5</td><td>0.916</td><td>0.53</td><td>2.56</td><td>9.979</td><td>0.132</td><td>17.49</td><td>0.0448</td><td>17.08</td><td>0.0742</td><td>17.49</td><td>0.0521</td><td>18.41</td><td>0.0558</td><td>17.23</td><td>0.0762</td><td>18.37</td><td>0.0634</td><td>2.233</td></tr>\n",
       "<tr><td>207.5016</td><td>-63.9485</td><td>15.6414</td><td>0.02</td><td>14.5508</td><td>0.02</td><td>16.2415</td><td>0.03</td><td>14.7087</td><td>0.1</td><td>0.001</td><td>8.92</td><td>1.861</td><td>2.9</td><td>0.656</td><td>4.69</td><td>1.615</td><td>4.24</td><td>2.899</td><td>1.45</td><td>7.29</td><td>0.996</td><td>0.029</td><td>15.99</td><td>0.0133</td><td>14.47</td><td>0.0166</td><td>16.5</td><td>0.0223</td><td>16.54</td><td>0.0144</td><td>15.21</td><td>0.0152</td><td>17.13</td><td>0.0236</td><td>2.002</td></tr>\n",
       "<tr><td>207.6363</td><td>-64.2081</td><td>16.3969</td><td>0.03</td><td>16.2628</td><td>0.06</td><td>16.4674</td><td>0.04</td><td>16.2178</td><td>0.04</td><td>-0.0017</td><td>0.66</td><td>0.291</td><td>1.16</td><td>0.136</td><td>1.61</td><td>1.387</td><td>4.22</td><td>0.861</td><td>0.51</td><td>2.65</td><td>9.957</td><td>0.97</td><td>16.61</td><td>0.0216</td><td>16.17</td><td>0.0457</td><td>16.66</td><td>0.0257</td><td>17.27</td><td>0.0238</td><td>16.92</td><td>0.0393</td><td>17.33</td><td>0.0275</td><td>2.44</td></tr>\n",
       "<tr><td>207.1399</td><td>-63.2464</td><td>16.7749</td><td>0.04</td><td>16.2023</td><td>0.06</td><td>16.7479</td><td>0.05</td><td>16.0472</td><td>0.06</td><td>-0.0018</td><td>9.35</td><td>0.71</td><td>1.99</td><td>0.497</td><td>2.42</td><td>1.219</td><td>4.02</td><td>1.144</td><td>0.77</td><td>4.65</td><td>3.627</td><td>0.887</td><td>17.27</td><td>0.0379</td><td>16.88</td><td>0.0533</td><td>17.21</td><td>0.0404</td><td>18.9</td><td>0.0873</td><td>18.41</td><td>0.1035</td><td>18.81</td><td>0.0925</td><td>3.047</td></tr>\n",
       "<tr><td>207.4593</td><td>-63.8681</td><td>17.6458</td><td>0.08</td><td>17.2492</td><td>0.1</td><td>17.507</td><td>0.09</td><td>16.8791</td><td>0.17</td><td>0.0025</td><td>19.71</td><td>4.112</td><td>2.03</td><td>0.507</td><td>1.76</td><td>0.866</td><td>3.5</td><td>1.081</td><td>0.66</td><td>3.0</td><td>6.383</td><td>0.013</td><td>18.05</td><td>0.0721</td><td>17.68</td><td>0.0945</td><td>17.95</td><td>0.0779</td><td>18.59</td><td>0.0648</td><td>18.36</td><td>0.0898</td><td>18.57</td><td>0.0754</td><td>2.216</td></tr>\n",
       "<tr><td>207.5354</td><td>-64.0235</td><td>16.6598</td><td>0.04</td><td>16.2205</td><td>0.06</td><td>16.6952</td><td>0.04</td><td>16.4163</td><td>0.06</td><td>-0.0</td><td>4.02</td><td>0.277</td><td>1.46</td><td>0.314</td><td>2.37</td><td>1.629</td><td>3.5</td><td>1.068</td><td>0.72</td><td>4.14</td><td>9.821</td><td>0.547</td><td>17.09</td><td>0.0317</td><td>16.44</td><td>0.0546</td><td>17.3</td><td>0.044</td><td>17.62</td><td>0.0303</td><td>16.92</td><td>0.049</td><td>17.76</td><td>0.0383</td><td>2.94</td></tr>\n",
       "</table>"
      ],
      "text/plain": [
       "<Table length=751862>\n",
       " ALPHA    DELTA   MAG_PSF_Ks MAGERR_PSF_Ks ... MAG_APER_J MAGERR_APER_J    C   \n",
       "float64  float64   float64      float64    ...  float64      float64    float64\n",
       "-------- -------- ---------- ------------- ... ---------- ------------- -------\n",
       "203.9948 -63.7845    17.0627          0.06 ...      18.91        0.0895   2.273\n",
       "204.0021 -63.8033    17.5726          0.09 ...      19.42        0.1408   1.822\n",
       "204.0225 -63.8555    17.1464          0.11 ...      19.18        0.1147   1.939\n",
       " 204.047 -63.9181    17.1915          0.07 ...      18.67        0.0741   2.011\n",
       "204.0511 -63.9287    17.8882           0.1 ...      19.03        0.1013   1.797\n",
       " 204.058 -63.9462    16.9369          0.06 ...      18.95        0.0933   2.011\n",
       "204.1018 -64.0565    18.0436          0.12 ...      18.81        0.0876   2.127\n",
       "204.0016 -63.8018    16.6425          0.04 ...      18.21        0.0506   2.082\n",
       " 204.069 -63.9741    16.4114          0.04 ...      17.88        0.0394   2.001\n",
       "204.0914 -64.0307    17.5289          0.07 ...       18.8        0.0868   1.967\n",
       "     ...      ...        ...           ... ...        ...           ...     ...\n",
       "207.2554 -63.4823     15.479          0.01 ...      16.53        0.0155   2.385\n",
       "207.4342 -63.8282    16.9205          0.04 ...      17.95        0.0448   2.199\n",
       "207.7056 -64.3531    16.1479          0.02 ...      17.02        0.0218   3.294\n",
       "207.5286 -64.0018    13.9165          0.01 ...      14.71        0.0052   2.392\n",
       "207.6506 -64.2333     17.106          0.05 ...      18.37        0.0634   2.233\n",
       "207.5016 -63.9485    15.6414          0.02 ...      17.13        0.0236   2.002\n",
       "207.6363 -64.2081    16.3969          0.03 ...      17.33        0.0275    2.44\n",
       "207.1399 -63.2464    16.7749          0.04 ...      18.81        0.0925   3.047\n",
       "207.4593 -63.8681    17.6458          0.08 ...      18.57        0.0754   2.216\n",
       "207.5354 -64.0235    16.6598          0.04 ...      17.76        0.0383    2.94"
      ]
     },
     "execution_count": 5,
     "metadata": {},
     "output_type": "execute_result"
    }
   ],
   "source": [
    "d010"
   ]
  },
  {
   "cell_type": "markdown",
   "metadata": {},
   "source": [
    "Probamos la interfaz de IRSA dust extinction mediante tablas"
   ]
  },
  {
   "cell_type": "code",
   "execution_count": 54,
   "metadata": {
    "collapsed": false
   },
   "outputs": [],
   "source": [
    "coord_table = d010[['ALPHA', 'DELTA']]\n",
    "\n",
    "rows_d010 = np.random.choice(len(coord_table), 20000)\n",
    "\n",
    "submit_tab = coord_table[rows_d010]\n",
    "\n",
    "submit_tab.add_column(Column(data=[2. for i in xrange(20000)], name='size'))\n",
    "\n",
    "submit_tab.write('extinction_tab_d010.dat', format='ipac', names=['ra', 'dec', 'size'], overwrite=True)"
   ]
  },
  {
   "cell_type": "markdown",
   "metadata": {
    "collapsed": false
   },
   "source": [
    "Subimos la tabla creada en formato ipac para probar y funciona. \n",
    "\n",
    "La cantidad de datos es enorme (750k filas) lo que nos obliga a adoptar otra estrategia."
   ]
  },
  {
   "cell_type": "markdown",
   "metadata": {},
   "source": [
    "### Probemos con astroquery\n",
    "\n",
    "`astroquery` sirve para realizar consultas a bases de datos astronomicas, siguiendo la filosofia de Astropy.\n",
    "\n",
    "Para eso creamos la funcion `dered` la cual toma una fila de una tabla y realiza la correccion de extincion usando las coordenadas y una query a la base de datos IRSA."
   ]
  },
  {
   "cell_type": "code",
   "execution_count": 10,
   "metadata": {
    "collapsed": false
   },
   "outputs": [],
   "source": [
    "from retrying import retry\n",
    "\n",
    "@retry(stop_max_attempt_number=7)\n",
    "def av(obj):\n",
    "    return IrsaDust.get_query_table(obj, section='ebv')['ext SandF mean']*3.1\n",
    "\n",
    "def dered(row):\n",
    "    obj = str(row['ALPHA'])+' '+str(row['DELTA'])\n",
    "    \n",
    "    av_SanF = av(obj)\n",
    "    AJ=0.28*av_SanF\n",
    "    AH=0.184*av_SanF\n",
    "    AKs=0.118*av_SanF\n",
    "    \n",
    "    row['MAG_PSF_Ks_C']=row['MAG_PSF_Ks'] - AKs\n",
    "    row['MAG_APER_Ks_C']=row['MAG_APER_Ks'] - AKs\n",
    "    row['MAG_PSF_J_C']=row['MAG_PSF_J'] - AJ\n",
    "    row['MAG_APER_J_C']=row['MAG_APER_J'] - AJ\n",
    "    row['MAG_PSF_H_C']=row['MAG_PSF_H'] - AH\n",
    "    row['MAG_APER_H_C']=row['MAG_APER_H'] - AH\n",
    "        "
   ]
  },
  {
   "cell_type": "code",
   "execution_count": 11,
   "metadata": {
    "collapsed": false
   },
   "outputs": [],
   "source": [
    "obj = str(test_table['ALPHA'][0])+' '+str(test_table['DELTA'][0])\n",
    "av_SanF = IrsaDust.get_query_table(obj, section='ebv')['ext SandF mean']*3.1"
   ]
  },
  {
   "cell_type": "markdown",
   "metadata": {},
   "source": [
    "Dejamos corriendo la correccion de la tablita."
   ]
  },
  {
   "cell_type": "code",
   "execution_count": 12,
   "metadata": {
    "collapsed": true
   },
   "outputs": [],
   "source": [
    "from log_progress import log_progress"
   ]
  },
  {
   "cell_type": "code",
   "execution_count": 13,
   "metadata": {
    "collapsed": false
   },
   "outputs": [
    {
     "name": "stdout",
     "output_type": "stream",
     "text": [
      "CPU times: user 16.9 s, sys: 228 ms, total: 17.2 s\n",
      "Wall time: 5min 4s\n"
     ]
    }
   ],
   "source": [
    "test_table = d010[0:200]\n",
    "\n",
    "test_table['MAG_PSF_Ks_C']  = np.zeros(len(test_table))\n",
    "test_table['MAG_APER_Ks_C'] = np.zeros(len(test_table))\n",
    "test_table['MAG_PSF_J_C']   = np.zeros(len(test_table))\n",
    "test_table['MAG_APER_J_C']  = np.zeros(len(test_table))\n",
    "test_table['MAG_PSF_H_C']   = np.zeros(len(test_table))\n",
    "test_table['MAG_APER_H_C']  = np.zeros(len(test_table))\n",
    "\n",
    "%time for arow in log_progress(test_table, every=1): dered(arow)"
   ]
  },
  {
   "cell_type": "code",
   "execution_count": 14,
   "metadata": {
    "collapsed": false
   },
   "outputs": [],
   "source": [
    "test_table.write('corrected_resto_d010.dat', format='ipac')"
   ]
  },
  {
   "cell_type": "markdown",
   "metadata": {
    "collapsed": true
   },
   "source": [
    "Vemos que tarda demasiado en procesar tan solo 200 filas. \n",
    "\n",
    "Es importante que sepamos que tarda mas"
   ]
  },
  {
   "cell_type": "raw",
   "metadata": {},
   "source": [
    "test_table = d010\n",
    "\n",
    "test_table['MAG_PSF_Ks_C']  = np.zeros(len(test_table))\n",
    "test_table['MAG_APER_Ks_C'] = np.zeros(len(test_table))\n",
    "test_table['MAG_PSF_J_C']   = np.zeros(len(test_table))\n",
    "test_table['MAG_APER_J_C']  = np.zeros(len(test_table))\n",
    "test_table['MAG_PSF_H_C']   = np.zeros(len(test_table))\n",
    "test_table['MAG_APER_H_C']  = np.zeros(len(test_table))\n",
    "\n",
    "%time for arow in log_progress(test_table, every=100): dered(arow)\n",
    "\n",
    "test_table.write('corrected_resto_d010.dat', format='ipac')"
   ]
  },
  {
   "cell_type": "markdown",
   "metadata": {},
   "source": [
    "Finalmente en las celdas anteriores se seleccionaron 20000 objetos de muestra del tile d010 para realizar la correccion por extincion. Ahora se seleccionaran 20000 objetos mas del tile d115."
   ]
  },
  {
   "cell_type": "code",
   "execution_count": 35,
   "metadata": {
    "collapsed": true
   },
   "outputs": [],
   "source": [
    "d115 = ascii.read('./restos/RESTO_d115.cat', names=colnames)"
   ]
  },
  {
   "cell_type": "markdown",
   "metadata": {},
   "source": [
    "Abajo esta la celda usada para calcular los objetos para corregir. Pero ahora esta congelada para que no se sobreescriba el file."
   ]
  },
  {
   "cell_type": "raw",
   "metadata": {
    "collapsed": true
   },
   "source": [
    "coord_table = d115[['ALPHA', 'DELTA']]\n",
    "\n",
    "rows_d115 = np.random.choice(len(coord_table), 20000)\n",
    "\n",
    "submit_tab = coord_table[rows_d115]\n",
    "\n",
    "submit_tab.add_column(Column(data=[2. for i in xrange(20000)], name='size'))\n",
    "\n",
    "submit_tab.write('extinction_tab_d115.dat', format='ipac', names=['ra', 'dec', 'size'], overwrite=True)"
   ]
  },
  {
   "cell_type": "markdown",
   "metadata": {},
   "source": [
    "## Correction of magnitudes\n",
    "\n",
    "Ahora podemos corregir, usando las tablas de resultados de IRSA:"
   ]
  },
  {
   "cell_type": "code",
   "execution_count": 57,
   "metadata": {
    "collapsed": true
   },
   "outputs": [],
   "source": [
    "d010 = ascii.read('./restos/RESTO_d010.cat', names=colnames)[rows_d010]\n",
    "d115 = ascii.read('./restos/RESTO_d115.cat', names=colnames)[rows_d115]"
   ]
  },
  {
   "cell_type": "code",
   "execution_count": 61,
   "metadata": {
    "collapsed": true
   },
   "outputs": [],
   "source": [
    "exct_d010 = ascii.read('extinction_d010.tbl', format='ipac')\n",
    "exct_d115 = ascii.read('extinction_d115.tbl', format='ipac')"
   ]
  },
  {
   "cell_type": "markdown",
   "metadata": {},
   "source": [
    "La correccion es de la siguiente forma entonces:"
   ]
  },
  {
   "cell_type": "code",
   "execution_count": 70,
   "metadata": {
    "collapsed": false
   },
   "outputs": [
    {
     "data": {
      "text/plain": [
       "['objname',\n",
       " 'ra',\n",
       " 'dec',\n",
       " 'cutout_size',\n",
       " 'E_B_V_SandF',\n",
       " 'mean_E_B_V_SandF',\n",
       " 'stdev_E_B_V_SandF',\n",
       " 'max_E_B_V_SandF',\n",
       " 'min_E_B_V_SandF',\n",
       " 'AV_SandF',\n",
       " 'E_B_V_SFD',\n",
       " 'mean_E_B_V_SFD',\n",
       " 'stdev_E_B_V_SFD',\n",
       " 'max_E_B_V_SFD',\n",
       " 'min_E_B_V_SFD',\n",
       " 'AV_SFD',\n",
       " 'errmsg']"
      ]
     },
     "execution_count": 70,
     "metadata": {},
     "output_type": "execute_result"
    }
   ],
   "source": [
    "exct_d115.colnames"
   ]
  },
  {
   "cell_type": "code",
   "execution_count": 71,
   "metadata": {
    "collapsed": true
   },
   "outputs": [],
   "source": [
    "d115['MAG_PSF_Ks_C']=d115['MAG_PSF_Ks'] - exct_d115['AV_SandF']*0.118\n",
    "d115['MAG_APER_Ks_C']=d115['MAG_APER_Ks'] - exct_d115['AV_SandF']*0.118"
   ]
  },
  {
   "cell_type": "code",
   "execution_count": 72,
   "metadata": {
    "collapsed": true
   },
   "outputs": [],
   "source": [
    "d115['MAG_PSF_J_C']=d115['MAG_PSF_J'] - exct_d115['AV_SandF']*0.28\n",
    "d115['MAG_APER_J_C']=d115['MAG_APER_J'] - exct_d115['AV_SandF']*0.28"
   ]
  },
  {
   "cell_type": "code",
   "execution_count": 73,
   "metadata": {
    "collapsed": true
   },
   "outputs": [],
   "source": [
    "d115['MAG_PSF_H_C']=d115['MAG_PSF_H'] - exct_d115['AV_SandF']*0.184\n",
    "d115['MAG_APER_H_C']=d115['MAG_APER_H'] - exct_d115['AV_SandF']*0.184"
   ]
  },
  {
   "cell_type": "code",
   "execution_count": null,
   "metadata": {
    "collapsed": true
   },
   "outputs": [],
   "source": []
  }
 ],
 "metadata": {
  "kernelspec": {
   "display_name": "Python 2",
   "language": "python",
   "name": "python2"
  },
  "language_info": {
   "codemirror_mode": {
    "name": "ipython",
    "version": 2
   },
   "file_extension": ".py",
   "mimetype": "text/x-python",
   "name": "python",
   "nbconvert_exporter": "python",
   "pygments_lexer": "ipython2",
   "version": "2.7.12"
  },
  "widgets": {
   "state": {
    "b4c6cb87cdbb4b49a579d92ae8c8e083": {
     "views": [
      {
       "cell_index": 20
      }
     ]
    }
   },
   "version": "1.2.0"
  }
 },
 "nbformat": 4,
 "nbformat_minor": 1
}
